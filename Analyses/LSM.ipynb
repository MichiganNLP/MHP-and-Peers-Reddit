{
 "cells": [
  {
   "cell_type": "markdown",
   "metadata": {},
   "source": [
    "# Linguistic Style Matching\n",
    "\n",
    "Plotting LSM scores with 95% confidence intervals calculated with non-parametric bootstrap resampling. We provide the precomputed LSM scores for the function word categories for each post-reply pair, since a license is required for LIWC (see http://liwc.wpengine.com/)"
   ]
  },
  {
   "cell_type": "code",
   "execution_count": 1,
   "metadata": {},
   "outputs": [],
   "source": [
    "import pandas as pd \n",
    "from utils import bootstrap_resampling\n",
    "\n",
    "\n",
    "df = pd.read_pickle('../Data/func-lsm-info.pickle')\n",
    "task_df = pd.read_csv('../Data/task_data.csv')\n",
    "subreddit_topics = pd.read_csv('../Data/subreddit_topics.csv')"
   ]
  },
  {
   "cell_type": "code",
   "execution_count": 2,
   "metadata": {},
   "outputs": [],
   "source": [
    "groups = {}\n",
    "for topic in subreddit_topics.topic.unique():\n",
    "    topic_subreddits = subreddit_topics[subreddit_topics.topic==topic].subreddit.values\n",
    "    groups[topic] = topic_subreddits\n",
    "\n",
    "groups['All'] = subreddit_topics.subreddit.values"
   ]
  },
  {
   "cell_type": "code",
   "execution_count": 3,
   "metadata": {},
   "outputs": [
    {
     "name": "stdout",
     "output_type": "stream",
     "text": [
      "Trauma & Abuse (Trauma)\n",
      "Beginning bootstrap resampling\n"
     ]
    },
    {
     "name": "stderr",
     "output_type": "stream",
     "text": [
      "100%|██████████| 10000/10000 [00:00<00:00, 57490.32it/s]\n"
     ]
    },
    {
     "name": "stdout",
     "output_type": "stream",
     "text": [
      "Psychosis & Anxiety (Anx)\n",
      "Beginning bootstrap resampling\n"
     ]
    },
    {
     "name": "stderr",
     "output_type": "stream",
     "text": [
      "100%|██████████| 10000/10000 [00:00<00:00, 15736.72it/s]\n"
     ]
    },
    {
     "name": "stdout",
     "output_type": "stream",
     "text": [
      "Compulsive Disorders (Compuls.)\n",
      "Beginning bootstrap resampling\n"
     ]
    },
    {
     "name": "stderr",
     "output_type": "stream",
     "text": [
      "100%|██████████| 10000/10000 [00:00<00:00, 103023.02it/s]\n"
     ]
    },
    {
     "name": "stdout",
     "output_type": "stream",
     "text": [
      "Coping & Therapy (Cope)\n",
      "Beginning bootstrap resampling\n"
     ]
    },
    {
     "name": "stderr",
     "output_type": "stream",
     "text": [
      "100%|██████████| 10000/10000 [00:01<00:00, 9793.01it/s]\n"
     ]
    },
    {
     "name": "stdout",
     "output_type": "stream",
     "text": [
      "Mood Disorders (Mood)\n",
      "Beginning bootstrap resampling\n"
     ]
    },
    {
     "name": "stderr",
     "output_type": "stream",
     "text": [
      "100%|██████████| 10000/10000 [00:01<00:00, 8012.27it/s]\n"
     ]
    },
    {
     "name": "stdout",
     "output_type": "stream",
     "text": [
      "Addiction & Impulse Control (Addict.)\n",
      "Beginning bootstrap resampling\n"
     ]
    },
    {
     "name": "stderr",
     "output_type": "stream",
     "text": [
      "100%|██████████| 10000/10000 [00:00<00:00, 12226.73it/s]\n"
     ]
    },
    {
     "name": "stdout",
     "output_type": "stream",
     "text": [
      "Eating & Body (Body)\n",
      "Beginning bootstrap resampling\n"
     ]
    },
    {
     "name": "stderr",
     "output_type": "stream",
     "text": [
      "100%|██████████| 10000/10000 [00:00<00:00, 146809.01it/s]\n"
     ]
    },
    {
     "name": "stdout",
     "output_type": "stream",
     "text": [
      "Neurodevelopmental Disorders (Neurodiv.)\n",
      "Beginning bootstrap resampling\n"
     ]
    },
    {
     "name": "stderr",
     "output_type": "stream",
     "text": [
      "100%|██████████| 10000/10000 [00:00<00:00, 15882.71it/s]\n"
     ]
    },
    {
     "name": "stdout",
     "output_type": "stream",
     "text": [
      "General (Health)\n",
      "Beginning bootstrap resampling\n"
     ]
    },
    {
     "name": "stderr",
     "output_type": "stream",
     "text": [
      "100%|██████████| 10000/10000 [00:02<00:00, 4762.31it/s]\n"
     ]
    },
    {
     "name": "stdout",
     "output_type": "stream",
     "text": [
      "Broad Social (Social)\n",
      "Beginning bootstrap resampling\n"
     ]
    },
    {
     "name": "stderr",
     "output_type": "stream",
     "text": [
      "100%|██████████| 10000/10000 [00:02<00:00, 4170.83it/s]\n"
     ]
    },
    {
     "name": "stdout",
     "output_type": "stream",
     "text": [
      "All\n",
      "Beginning bootstrap resampling\n"
     ]
    },
    {
     "name": "stderr",
     "output_type": "stream",
     "text": [
      "100%|██████████| 10000/10000 [00:08<00:00, 1136.51it/s]\n"
     ]
    }
   ],
   "source": [
    "lsm_table = {'Category':[], 'Mean-MHP':[], 'Lower Error-MHP':[], 'Upper Error-MHP':[], 'Mean-Peer':[], 'Lower Error-Peer':[], 'Upper Error-Peer':[]}\n",
    "\n",
    "\"\"\"mhp\"\"\"\n",
    "for group, group_subreddits in groups.items():\n",
    "    \"\"\"\n",
    "    get the task df for this group of subreddits \n",
    "    \"\"\"\n",
    "    print(group)\n",
    "\n",
    "    group_subreddits_df = task_df[task_df['subreddit'].isin(group_subreddits)]\n",
    "    tmp = group_subreddits_df[group_subreddits_df['author_type'] == 'mhp'].index\n",
    "    tmp = df[df.index.isin(tmp)]\n",
    "\n",
    "    values = list(tmp['composite-lsm-func'].values)\n",
    "    ave, lower_error, upper_error = bootstrap_resampling(values)\n",
    "\n",
    "    lsm_table['Category'].append(group)\n",
    "    lsm_table['Mean-MHP'].append(ave)\n",
    "    lsm_table['Lower Error-MHP'].append(lower_error)\n",
    "    lsm_table['Upper Error-MHP'].append(upper_error)"
   ]
  },
  {
   "cell_type": "code",
   "execution_count": 4,
   "metadata": {},
   "outputs": [
    {
     "name": "stdout",
     "output_type": "stream",
     "text": [
      "Trauma & Abuse (Trauma)\n",
      "Beginning bootstrap resampling\n"
     ]
    },
    {
     "name": "stderr",
     "output_type": "stream",
     "text": [
      "100%|██████████| 10000/10000 [00:00<00:00, 11777.95it/s]\n"
     ]
    },
    {
     "name": "stdout",
     "output_type": "stream",
     "text": [
      "Psychosis & Anxiety (Anx)\n",
      "Beginning bootstrap resampling\n"
     ]
    },
    {
     "name": "stderr",
     "output_type": "stream",
     "text": [
      "100%|██████████| 10000/10000 [00:06<00:00, 1629.65it/s]\n"
     ]
    },
    {
     "name": "stdout",
     "output_type": "stream",
     "text": [
      "Compulsive Disorders (Compuls.)\n",
      "Beginning bootstrap resampling\n"
     ]
    },
    {
     "name": "stderr",
     "output_type": "stream",
     "text": [
      "100%|██████████| 10000/10000 [00:00<00:00, 24070.13it/s]\n"
     ]
    },
    {
     "name": "stdout",
     "output_type": "stream",
     "text": [
      "Coping & Therapy (Cope)\n",
      "Beginning bootstrap resampling\n"
     ]
    },
    {
     "name": "stderr",
     "output_type": "stream",
     "text": [
      "100%|██████████| 10000/10000 [00:07<00:00, 1310.05it/s]\n"
     ]
    },
    {
     "name": "stdout",
     "output_type": "stream",
     "text": [
      "Mood Disorders (Mood)\n",
      "Beginning bootstrap resampling\n"
     ]
    },
    {
     "name": "stderr",
     "output_type": "stream",
     "text": [
      "100%|██████████| 10000/10000 [00:07<00:00, 1345.07it/s]\n"
     ]
    },
    {
     "name": "stdout",
     "output_type": "stream",
     "text": [
      "Addiction & Impulse Control (Addict.)\n",
      "Beginning bootstrap resampling\n"
     ]
    },
    {
     "name": "stderr",
     "output_type": "stream",
     "text": [
      "100%|██████████| 10000/10000 [00:12<00:00, 775.48it/s]\n"
     ]
    },
    {
     "name": "stdout",
     "output_type": "stream",
     "text": [
      "Eating & Body (Body)\n",
      "Beginning bootstrap resampling\n"
     ]
    },
    {
     "name": "stderr",
     "output_type": "stream",
     "text": [
      "100%|██████████| 10000/10000 [00:00<00:00, 17695.95it/s]\n"
     ]
    },
    {
     "name": "stdout",
     "output_type": "stream",
     "text": [
      "Neurodevelopmental Disorders (Neurodiv.)\n",
      "Beginning bootstrap resampling\n"
     ]
    },
    {
     "name": "stderr",
     "output_type": "stream",
     "text": [
      "100%|██████████| 10000/10000 [00:10<00:00, 961.39it/s]\n"
     ]
    },
    {
     "name": "stdout",
     "output_type": "stream",
     "text": [
      "General (Health)\n",
      "Beginning bootstrap resampling\n"
     ]
    },
    {
     "name": "stderr",
     "output_type": "stream",
     "text": [
      "100%|██████████| 10000/10000 [00:20<00:00, 482.24it/s]\n"
     ]
    },
    {
     "name": "stdout",
     "output_type": "stream",
     "text": [
      "Broad Social (Social)\n",
      "Beginning bootstrap resampling\n"
     ]
    },
    {
     "name": "stderr",
     "output_type": "stream",
     "text": [
      "100%|██████████| 10000/10000 [00:18<00:00, 551.77it/s]\n"
     ]
    },
    {
     "name": "stdout",
     "output_type": "stream",
     "text": [
      "All\n",
      "Beginning bootstrap resampling\n"
     ]
    },
    {
     "name": "stderr",
     "output_type": "stream",
     "text": [
      "100%|██████████| 10000/10000 [01:45<00:00, 94.55it/s]\n"
     ]
    }
   ],
   "source": [
    "\"\"\" non-mhp \"\"\"\n",
    "for group, group_subreddits in groups.items():\n",
    "    \"\"\"\n",
    "    get the task df for this group of subreddits \n",
    "    \"\"\"\n",
    "    print(group)\n",
    "    group_subreddits_df = task_df[task_df['subreddit'].isin(group_subreddits)]\n",
    "\n",
    "    tmp = group_subreddits_df[group_subreddits_df['author_type'] == 'non-mhp'].index\n",
    "    tmp = df[df.index.isin(tmp)]\n",
    "\n",
    "    values = list(tmp['composite-lsm-func'].values)\n",
    "    ave, lower_error, upper_error = bootstrap_resampling(values)\n",
    "\n",
    "    lsm_table['Mean-Peer'].append(ave)\n",
    "    lsm_table['Lower Error-Peer'].append(lower_error)\n",
    "    lsm_table['Upper Error-Peer'].append(upper_error)"
   ]
  },
  {
   "cell_type": "code",
   "execution_count": 5,
   "metadata": {},
   "outputs": [
    {
     "data": {
      "text/html": [
       "<div>\n",
       "<style scoped>\n",
       "    .dataframe tbody tr th:only-of-type {\n",
       "        vertical-align: middle;\n",
       "    }\n",
       "\n",
       "    .dataframe tbody tr th {\n",
       "        vertical-align: top;\n",
       "    }\n",
       "\n",
       "    .dataframe thead th {\n",
       "        text-align: right;\n",
       "    }\n",
       "</style>\n",
       "<table border=\"1\" class=\"dataframe\">\n",
       "  <thead>\n",
       "    <tr style=\"text-align: right;\">\n",
       "      <th></th>\n",
       "      <th>Category</th>\n",
       "      <th>Mean-MHP</th>\n",
       "      <th>Lower Error-MHP</th>\n",
       "      <th>Upper Error-MHP</th>\n",
       "      <th>Mean-Peer</th>\n",
       "      <th>Lower Error-Peer</th>\n",
       "      <th>Upper Error-Peer</th>\n",
       "    </tr>\n",
       "  </thead>\n",
       "  <tbody>\n",
       "    <tr>\n",
       "      <th>0</th>\n",
       "      <td>Trauma &amp; Abuse (Trauma)</td>\n",
       "      <td>0.631012</td>\n",
       "      <td>0.030815</td>\n",
       "      <td>0.029962</td>\n",
       "      <td>0.637887</td>\n",
       "      <td>0.012096</td>\n",
       "      <td>0.011958</td>\n",
       "    </tr>\n",
       "    <tr>\n",
       "      <th>1</th>\n",
       "      <td>Psychosis &amp; Anxiety (Anx)</td>\n",
       "      <td>0.599720</td>\n",
       "      <td>0.015544</td>\n",
       "      <td>0.015192</td>\n",
       "      <td>0.592206</td>\n",
       "      <td>0.004732</td>\n",
       "      <td>0.004618</td>\n",
       "    </tr>\n",
       "    <tr>\n",
       "      <th>2</th>\n",
       "      <td>Compulsive Disorders (Compuls.)</td>\n",
       "      <td>0.628175</td>\n",
       "      <td>0.037389</td>\n",
       "      <td>0.035752</td>\n",
       "      <td>0.585642</td>\n",
       "      <td>0.017936</td>\n",
       "      <td>0.017818</td>\n",
       "    </tr>\n",
       "    <tr>\n",
       "      <th>3</th>\n",
       "      <td>Coping &amp; Therapy (Cope)</td>\n",
       "      <td>0.647327</td>\n",
       "      <td>0.010553</td>\n",
       "      <td>0.010067</td>\n",
       "      <td>0.588711</td>\n",
       "      <td>0.004486</td>\n",
       "      <td>0.004598</td>\n",
       "    </tr>\n",
       "    <tr>\n",
       "      <th>4</th>\n",
       "      <td>Mood Disorders (Mood)</td>\n",
       "      <td>0.643728</td>\n",
       "      <td>0.009328</td>\n",
       "      <td>0.009180</td>\n",
       "      <td>0.610514</td>\n",
       "      <td>0.004238</td>\n",
       "      <td>0.004170</td>\n",
       "    </tr>\n",
       "    <tr>\n",
       "      <th>5</th>\n",
       "      <td>Addiction &amp; Impulse Control (Addict.)</td>\n",
       "      <td>0.570995</td>\n",
       "      <td>0.015134</td>\n",
       "      <td>0.015199</td>\n",
       "      <td>0.540804</td>\n",
       "      <td>0.003959</td>\n",
       "      <td>0.003898</td>\n",
       "    </tr>\n",
       "    <tr>\n",
       "      <th>6</th>\n",
       "      <td>Eating &amp; Body (Body)</td>\n",
       "      <td>0.588794</td>\n",
       "      <td>0.046969</td>\n",
       "      <td>0.044330</td>\n",
       "      <td>0.615564</td>\n",
       "      <td>0.015878</td>\n",
       "      <td>0.015294</td>\n",
       "    </tr>\n",
       "    <tr>\n",
       "      <th>7</th>\n",
       "      <td>Neurodevelopmental Disorders (Neurodiv.)</td>\n",
       "      <td>0.630906</td>\n",
       "      <td>0.014303</td>\n",
       "      <td>0.013919</td>\n",
       "      <td>0.599280</td>\n",
       "      <td>0.003639</td>\n",
       "      <td>0.003690</td>\n",
       "    </tr>\n",
       "    <tr>\n",
       "      <th>8</th>\n",
       "      <td>General (Health)</td>\n",
       "      <td>0.614486</td>\n",
       "      <td>0.007747</td>\n",
       "      <td>0.007426</td>\n",
       "      <td>0.608941</td>\n",
       "      <td>0.002665</td>\n",
       "      <td>0.002705</td>\n",
       "    </tr>\n",
       "    <tr>\n",
       "      <th>9</th>\n",
       "      <td>Broad Social (Social)</td>\n",
       "      <td>0.506024</td>\n",
       "      <td>0.008594</td>\n",
       "      <td>0.008630</td>\n",
       "      <td>0.618481</td>\n",
       "      <td>0.002873</td>\n",
       "      <td>0.002844</td>\n",
       "    </tr>\n",
       "    <tr>\n",
       "      <th>10</th>\n",
       "      <td>All</td>\n",
       "      <td>0.588794</td>\n",
       "      <td>0.004116</td>\n",
       "      <td>0.004103</td>\n",
       "      <td>0.596983</td>\n",
       "      <td>0.001358</td>\n",
       "      <td>0.001359</td>\n",
       "    </tr>\n",
       "  </tbody>\n",
       "</table>\n",
       "</div>"
      ],
      "text/plain": [
       "                                    Category  Mean-MHP  Lower Error-MHP  \\\n",
       "0                    Trauma & Abuse (Trauma)  0.631012         0.030815   \n",
       "1                  Psychosis & Anxiety (Anx)  0.599720         0.015544   \n",
       "2            Compulsive Disorders (Compuls.)  0.628175         0.037389   \n",
       "3                    Coping & Therapy (Cope)  0.647327         0.010553   \n",
       "4                      Mood Disorders (Mood)  0.643728         0.009328   \n",
       "5      Addiction & Impulse Control (Addict.)  0.570995         0.015134   \n",
       "6                       Eating & Body (Body)  0.588794         0.046969   \n",
       "7   Neurodevelopmental Disorders (Neurodiv.)  0.630906         0.014303   \n",
       "8                           General (Health)  0.614486         0.007747   \n",
       "9                      Broad Social (Social)  0.506024         0.008594   \n",
       "10                                       All  0.588794         0.004116   \n",
       "\n",
       "    Upper Error-MHP  Mean-Peer  Lower Error-Peer  Upper Error-Peer  \n",
       "0          0.029962   0.637887          0.012096          0.011958  \n",
       "1          0.015192   0.592206          0.004732          0.004618  \n",
       "2          0.035752   0.585642          0.017936          0.017818  \n",
       "3          0.010067   0.588711          0.004486          0.004598  \n",
       "4          0.009180   0.610514          0.004238          0.004170  \n",
       "5          0.015199   0.540804          0.003959          0.003898  \n",
       "6          0.044330   0.615564          0.015878          0.015294  \n",
       "7          0.013919   0.599280          0.003639          0.003690  \n",
       "8          0.007426   0.608941          0.002665          0.002705  \n",
       "9          0.008630   0.618481          0.002873          0.002844  \n",
       "10         0.004103   0.596983          0.001358          0.001359  "
      ]
     },
     "execution_count": 5,
     "metadata": {},
     "output_type": "execute_result"
    }
   ],
   "source": [
    "lsm_table_df = pd.DataFrame(lsm_table, columns=lsm_table.keys())\n",
    "lsm_table_df"
   ]
  },
  {
   "cell_type": "code",
   "execution_count": 6,
   "metadata": {},
   "outputs": [
    {
     "name": "stdout",
     "output_type": "stream",
     "text": [
      "\\begin{figure*}\n",
      "    \\centering\n",
      "      \\begin{tikzpicture}\n",
      "      \\begin{axis}[\n",
      "      width  = \\linewidth,\n",
      "      height = 4cm,\n",
      "      ybar=2*\\pgflinewidth,\n",
      "      ymajorgrids = true,\n",
      "      symbolic x coords={Trauma,Anx,Compuls,Cope,Mood,Addict,Body,Neurodiv,Health,Social,All},\n",
      "      xtick = data,\n",
      "      scaled y ticks = false,\n",
      "      ymin=0,\n",
      "      legend cell align=left,\n",
      "      ]\n",
      "      \\addplot[style={fill=white},error bars/.cd, y dir=both, y explicit]\n",
      "          coordinates {\n",
      "(Trauma,0.6310119156541756) += (0,0.029962442897110475) -= (0,0.03081514525447937)\n",
      "(Anx,0.5997199013986588) += (0,0.01519174511662591) -= (0,0.015544352706185927)\n",
      "(Compuls,0.6281754095486042) += (0,0.0357519342555046) -= (0,0.03738872492676926)\n",
      "(Cope,0.6473266495067116) += (0,0.010066984978184701) -= (0,0.010552935538052588)\n",
      "(Mood,0.6437280427655686) += (0,0.009180262091117664) -= (0,0.009328442085683064)\n",
      "(Addict,0.5709948285212645) += (0,0.015199256087097268) -= (0,0.015134390184438407)\n",
      "(Body,0.5887944659204036) += (0,0.04432956318398418) -= (0,0.04696878984370534)\n",
      "(Neurodiv,0.6309063259324916) += (0,0.01391890784736749) -= (0,0.014303173962970095)\n",
      "(Health,0.6144863767231595) += (0,0.007425543475062746) -= (0,0.007746525814329885)\n",
      "(Social,0.5060244756989379) += (0,0.00862992954522357) -= (0,0.00859438033560228)\n",
      "(All,0.5887940258624854) += (0,0.004103442535799973) -= (0,0.0041157209528478456)\n",
      "          };\n",
      "      \\addplot[style={fill=lightgray},error bars/.cd, y dir=both, y explicit,error bar style=black]\n",
      "           coordinates {\n",
      "(Trauma,0.6378865787475075) += (0,0.0119576476105826) -= (0,0.012096314353275406)\n",
      "(Anx,0.5922057266084959) += (0,0.004617719809004162) -= (0,0.004731922540469169)\n",
      "(Compuls,0.5856424758280658) += (0,0.017818249302948175) -= (0,0.017936496148185377)\n",
      "(Cope,0.5887105654136473) += (0,0.0045978888128952455) -= (0,0.004486067568766683)\n",
      "(Mood,0.6105143832329811) += (0,0.004169661426287274) -= (0,0.004238386512265935)\n",
      "(Addict,0.5408042001923349) += (0,0.0038984385211480177) -= (0,0.00395860140679527)\n",
      "(Body,0.6155639543382515) += (0,0.01529421389797847) -= (0,0.01587817947763348)\n",
      "(Neurodiv,0.5992797132344616) += (0,0.0036899641469281264) -= (0,0.0036385952314014203)\n",
      "(Health,0.6089407444992813) += (0,0.0027053359645056174) -= (0,0.002665433221403779)\n",
      "(Social,0.6184805035707305) += (0,0.002843520445438563) -= (0,0.0028728095634809048)\n",
      "(All,0.5969832369722273) += (0,0.0013587580377160124) -= (0,0.0013578362432092872)\n",
      "          };\n",
      "      \\legend{MHP, Peer}\n",
      "  \\end{axis}\n",
      "  \\end{tikzpicture}\n",
      " \\caption{LSM scores with 95\\% confidence intervals.}\n",
      " \\label{fig:lsm}\n",
      "\\end{figure*}\n"
     ]
    }
   ],
   "source": [
    "categories = ['Trauma', 'Anx', 'Compuls', 'Cope', 'Mood', 'Addict', 'Body', 'Neurodiv', 'Health', 'Social', 'All']\n",
    "print(\"\\\\begin{figure*}\")\n",
    "print(\"    \\\\centering\")\n",
    "print(\"      \\\\begin{tikzpicture}\")\n",
    "print(\"      \\\\begin{axis}[\")\n",
    "print(\"      width  = \\\\linewidth,\")\n",
    "print(\"      height = 4cm,\")\n",
    "# %   major x tick style = transparent,\n",
    "print(\"      ybar=2*\\pgflinewidth,\")\n",
    "# print(\"      bar width=25pt,\")\n",
    "print(\"      ymajorgrids = true,\")\n",
    "print(\"      symbolic x coords=[{}],\".format(\",\".join(categories)).replace(\"[\", \"{\").replace(\"]\", \"}\").replace(\"&\", \"\\&\"))\n",
    "print(\"      xtick = data,\")\n",
    "print(\"      scaled y ticks = false,\")\n",
    "# print(\"      enlarge x limits=0.50,\")\n",
    "print(\"      ymin=0,\")\n",
    "print(\"      legend cell align=left,\")\n",
    "# print(\"      legend style={at={(0.5,-0.12)},anchor=north}\")\n",
    "print(\"      ]\")\n",
    "print(\"      \\\\addplot[style={fill=white},error bars/.cd, y dir=both, y explicit]\")\n",
    "print(\"          coordinates {\")\n",
    "for group, ave, upper, lower in zip(categories,lsm_table_df['Mean-MHP'].values, lsm_table_df['Upper Error-MHP'].values, lsm_table_df['Lower Error-MHP'].values):\n",
    "    print(\"({},{}) += (0,{}) -= (0,{})\".format(group, ave, upper, lower).replace(\"&\", \"\\&\"))\n",
    "print(\"          };\")\n",
    "\n",
    "print(\"      \\\\addplot[style={fill=lightgray},error bars/.cd, y dir=both, y explicit,error bar style=black]\")\n",
    "print(\"           coordinates {\")\n",
    "for group, ave, upper, lower in zip(categories,lsm_table_df['Mean-Peer'].values, lsm_table_df['Upper Error-Peer'].values, lsm_table_df['Lower Error-Peer'].values):\n",
    "# for group, ave, upper, lower in zip(categories,lsm_table_df['Mean-Peer'].values, lsm_table_df['Upper Error-Peer'].values, lsm_table_df['Lower Error-Peer'].values):\n",
    "    print(\"({},{}) += (0,{}) -= (0,{})\".format(group, ave, upper, lower).replace(\"&\", \"\\&\"))\n",
    "print(\"          };\")\n",
    "print(\"      \\\\legend{MHP, Peer}\")\n",
    "print(\"  \\\\end{axis}\")\n",
    "print(\"  \\\\end{tikzpicture}\")\n",
    "print(\" \\\\caption{LSM scores with 95\\% confidence intervals.}\")\n",
    "print(\" \\\\label{fig:lsm}\")\n",
    "print(\"\\\\end{figure*}\") \n",
    "\n"
   ]
  }
 ],
 "metadata": {
  "kernelspec": {
   "display_name": "Python 3",
   "language": "python",
   "name": "python3"
  },
  "language_info": {
   "codemirror_mode": {
    "name": "ipython",
    "version": 3
   },
   "file_extension": ".py",
   "mimetype": "text/x-python",
   "name": "python",
   "nbconvert_exporter": "python",
   "pygments_lexer": "ipython3",
   "version": "3.9.7"
  }
 },
 "nbformat": 4,
 "nbformat_minor": 2
}
